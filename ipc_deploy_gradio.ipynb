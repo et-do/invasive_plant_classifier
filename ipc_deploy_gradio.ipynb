{
 "cells": [
  {
   "cell_type": "code",
   "execution_count": null,
   "id": "6848c5a6-85e6-41f5-9004-a690a77b5509",
   "metadata": {},
   "outputs": [],
   "source": [
    "from fastai.vision.all import *\n",
    "from fastai.vision.widgets import *\n",
    "import gradio as gr"
   ]
  },
  {
   "cell_type": "code",
   "execution_count": null,
   "id": "f2fd99bd-54cd-42aa-bdbf-74cd795342f1",
   "metadata": {},
   "outputs": [],
   "source": [
    "learn = load_learner('/notebooks/invasive_plant_identifier/invsv_export.pkl')"
   ]
  },
  {
   "cell_type": "code",
   "execution_count": null,
   "id": "a879266a-83d2-489d-aec1-2b558d8b5cb1",
   "metadata": {},
   "outputs": [],
   "source": [
    "labels = learn.dls.vocab\n",
    "def predict(img):\n",
    "    img = PILImage.create(img)\n",
    "    pred,pred_idx,probs = learn.predict(img)\n",
    "    return {labels[i]: float(probs[i]) for i in range(len(labels))}"
   ]
  },
  {
   "cell_type": "code",
   "execution_count": null,
   "id": "6e62c71e-30c5-4451-a9ab-447bec05bb91",
   "metadata": {},
   "outputs": [],
   "source": [
    "title = \"BC Gov - Invasive Plant Classifier (Class: Provincial Containment)\"\n",
    "description = \"An invasive plant classifier trained on BingSearch Images scraped dataset with fastai. Created as a demo for Gradio and HuggingFace Spaces.\"\n",
    "examples = ['invasive_plant_identifier/test/Alliaria petiolata.jpg', 'invasive_plant_identifier/test/anthriscus sylvestris.jpg', 'invasive_plant_identifier/test/Chondrilla juncea.jpg', 'invasive_plant_identifier/test/Conium maculatum.jpg', 'invasive_plant_identifier/test/Heracleum mantegazzianum.jpg', 'invasive_plant_identifier/test/Pastinaca sativa.jpg']\n",
    "enable_queue=True\n",
    "\n",
    "iface = gr.Interface(fn=predict,inputs=gr.inputs.Image(shape=(512, 512)),outputs=gr.outputs.Label(num_top_classes=6),title=title,description=description,examples=examples,enable_queue=enable_queue)"
   ]
  },
  {
   "cell_type": "code",
   "execution_count": null,
   "id": "f8017243-6aeb-4dd8-821d-5c50eaad322d",
   "metadata": {},
   "outputs": [],
   "source": [
    "iface.launch(share=True)"
   ]
  },
  {
   "cell_type": "code",
   "execution_count": null,
   "id": "008c4859-c932-4015-b562-b71d71d91e33",
   "metadata": {},
   "outputs": [],
   "source": []
  }
 ],
 "metadata": {
  "kernelspec": {
   "display_name": "Python 3 (ipykernel)",
   "language": "python",
   "name": "python3"
  },
  "language_info": {
   "codemirror_mode": {
    "name": "ipython",
    "version": 3
   },
   "file_extension": ".py",
   "mimetype": "text/x-python",
   "name": "python",
   "nbconvert_exporter": "python",
   "pygments_lexer": "ipython3",
   "version": "3.7.11"
  }
 },
 "nbformat": 4,
 "nbformat_minor": 5
}
